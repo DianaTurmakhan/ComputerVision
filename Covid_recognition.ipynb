{
 "cells": [
  {
   "cell_type": "code",
   "execution_count": 1,
   "id": "b421a884",
   "metadata": {},
   "outputs": [
    {
     "name": "stdout",
     "output_type": "stream",
     "text": [
      "Found 148 images belonging to 2 classes.\n",
      "Found 40 images belonging to 2 classes.\n",
      "Model: \"sequential\"\n",
      "_________________________________________________________________\n",
      " Layer (type)                Output Shape              Param #   \n",
      "=================================================================\n",
      " conv2d (Conv2D)             (None, 254, 254, 32)      896       \n",
      "                                                                 \n",
      " conv2d_1 (Conv2D)           (None, 252, 252, 64)      18496     \n",
      "                                                                 \n",
      " max_pooling2d (MaxPooling2D  (None, 126, 126, 64)     0         \n",
      " )                                                               \n",
      "                                                                 \n",
      " dropout (Dropout)           (None, 126, 126, 64)      0         \n",
      "                                                                 \n",
      " conv2d_2 (Conv2D)           (None, 124, 124, 64)      36928     \n",
      "                                                                 \n",
      " max_pooling2d_1 (MaxPooling  (None, 62, 62, 64)       0         \n",
      " 2D)                                                             \n",
      "                                                                 \n",
      " dropout_1 (Dropout)         (None, 62, 62, 64)        0         \n",
      "                                                                 \n",
      " conv2d_3 (Conv2D)           (None, 60, 60, 128)       73856     \n",
      "                                                                 \n",
      " max_pooling2d_2 (MaxPooling  (None, 30, 30, 128)      0         \n",
      " 2D)                                                             \n",
      "                                                                 \n",
      " dropout_2 (Dropout)         (None, 30, 30, 128)       0         \n",
      "                                                                 \n",
      " flatten (Flatten)           (None, 115200)            0         \n",
      "                                                                 \n",
      " dense (Dense)               (None, 64)                7372864   \n",
      "                                                                 \n",
      " dense_1 (Dense)             (None, 1)                 65        \n",
      "                                                                 \n",
      "=================================================================\n",
      "Total params: 7,503,105\n",
      "Trainable params: 7,503,105\n",
      "Non-trainable params: 0\n",
      "_________________________________________________________________\n",
      "Epoch 1/10\n",
      "5/5 [==============================] - 58s 11s/step - loss: 6.3577 - accuracy: 0.6216 - val_loss: 2.8000 - val_accuracy: 0.5000\n",
      "Epoch 2/10\n",
      "5/5 [==============================] - 52s 11s/step - loss: 2.0448 - accuracy: 0.5270 - val_loss: 0.6943 - val_accuracy: 0.5000\n",
      "Epoch 3/10\n",
      "5/5 [==============================] - 53s 10s/step - loss: 0.7222 - accuracy: 0.5270 - val_loss: 0.6953 - val_accuracy: 0.5000\n",
      "Epoch 4/10\n",
      "5/5 [==============================] - 54s 11s/step - loss: 0.6464 - accuracy: 0.6216 - val_loss: 0.6097 - val_accuracy: 0.7000\n",
      "Epoch 5/10\n",
      "5/5 [==============================] - 57s 11s/step - loss: 0.5009 - accuracy: 0.8041 - val_loss: 0.3538 - val_accuracy: 0.9500\n",
      "Epoch 6/10\n",
      "5/5 [==============================] - 55s 11s/step - loss: 0.4224 - accuracy: 0.8378 - val_loss: 0.2067 - val_accuracy: 0.9750\n",
      "Epoch 7/10\n",
      "5/5 [==============================] - 52s 10s/step - loss: 0.3429 - accuracy: 0.8649 - val_loss: 0.1756 - val_accuracy: 0.9750\n",
      "Epoch 8/10\n",
      "5/5 [==============================] - 51s 11s/step - loss: 0.3012 - accuracy: 0.8851 - val_loss: 0.1980 - val_accuracy: 0.9750\n",
      "Epoch 9/10\n",
      "5/5 [==============================] - 55s 11s/step - loss: 0.2314 - accuracy: 0.9054 - val_loss: 0.1351 - val_accuracy: 0.9750\n",
      "Epoch 10/10\n",
      "5/5 [==============================] - 52s 11s/step - loss: 0.1941 - accuracy: 0.9459 - val_loss: 0.1015 - val_accuracy: 0.9750\n"
     ]
    },
    {
     "data": {
      "text/plain": [
       "<keras.callbacks.History at 0x1e5761244f0>"
      ]
     },
     "execution_count": 1,
     "metadata": {},
     "output_type": "execute_result"
    }
   ],
   "source": [
    "import tensorflow as tf\n",
    "from IPython.display import Image, display\n",
    "from tensorflow import keras\n",
    "import matplotlib.pyplot as plt\n",
    "from keras.layers import Conv2D, Dense, MaxPool2D, Dropout, Flatten\n",
    "from keras.layers import LeakyReLU\n",
    "from keras.layers import BatchNormalization\n",
    "from keras.models import Sequential, Model\n",
    "import numpy as np\n",
    "from keras.preprocessing.image import ImageDataGenerator\n",
    "\n",
    "\n",
    "train_path='xray_dataset_covid19/train'\n",
    "test_path='xray_dataset_covid19/test'\n",
    "\n",
    "\n",
    "\n",
    "train_data=ImageDataGenerator(rescale=1/255).flow_from_directory(directory=train_path,\n",
    "    target_size=(256,256),\n",
    "    classes=['normal','covid'],                                                                     \n",
    "    batch_size=32,\n",
    "    class_mode='binary',\n",
    ")\n",
    "\n",
    "\n",
    "test_data=ImageDataGenerator(rescale=1/255).flow_from_directory(directory=test_path,\n",
    "    target_size=(256,256),\n",
    "    classes=['normal','covid'],                                                                     \n",
    "    batch_size=32,\n",
    "    class_mode='binary',\n",
    ")\n",
    "\n",
    "model=Sequential()\n",
    "model.add(Conv2D(filters=32, kernel_size=(3,3), activation='relu', input_shape=(256,256,3)))\n",
    "\n",
    "model.add(Conv2D(filters=64, kernel_size=(3,3), activation='relu'))\n",
    "model.add(MaxPool2D())\n",
    "model.add(Dropout(rate=0.25))\n",
    "\n",
    "model.add(Conv2D(filters=64, kernel_size=(3,3), activation='relu'))\n",
    "model.add(MaxPool2D())\n",
    "model.add(Dropout(rate=0.25))\n",
    "\n",
    "model.add(Conv2D(filters=128, kernel_size=(3,3), activation='relu'))\n",
    "model.add(MaxPool2D())\n",
    "model.add(Dropout(rate=0.25))\n",
    "\n",
    "model.add(Flatten())\n",
    "model.add(Dense(units=64, activation='relu'))\n",
    "model.add(Dense(units=1,activation='sigmoid'))\n",
    "model.summary()\n",
    "\n",
    "model.compile(optimizer='adam', loss='binary_crossentropy',metrics=['accuracy'])\n",
    "model.fit(train_data, epochs=10, validation_data=test_data)\n",
    "\n"
   ]
  },
  {
   "cell_type": "code",
   "execution_count": 4,
   "id": "ef941229",
   "metadata": {},
   "outputs": [
    {
     "name": "stdout",
     "output_type": "stream",
     "text": [
      "[[0.9958558]]\n"
     ]
    }
   ],
   "source": [
    "from keras.preprocessing import image\n",
    "img_path='xray_dataset_covid19/test/COVID/ryct.2020200034.fig5-day0.jpeg'\n",
    "img=image.load_img(img_path, target_size=(256,256))\n",
    "img=image.img_to_array(img)/255\n",
    "img=np.array([img])\n",
    "out=model.predict(img)\n",
    "print(out)\n"
   ]
  },
  {
   "cell_type": "code",
   "execution_count": 56,
   "id": "4556934f",
   "metadata": {},
   "outputs": [
    {
     "data": {
      "text/plain": [
       "{'normal': 0, 'covid': 1}"
      ]
     },
     "execution_count": 56,
     "metadata": {},
     "output_type": "execute_result"
    }
   ],
   "source": [
    "train_data.class_indices"
   ]
  },
  {
   "cell_type": "code",
   "execution_count": null,
   "id": "b4a143e7",
   "metadata": {},
   "outputs": [],
   "source": [
    "\n",
    "\n",
    "\n",
    "\n"
   ]
  },
  {
   "cell_type": "code",
   "execution_count": null,
   "id": "fd16ce9f",
   "metadata": {},
   "outputs": [],
   "source": []
  }
 ],
 "metadata": {
  "kernelspec": {
   "display_name": "Python 3",
   "language": "python",
   "name": "python3"
  },
  "language_info": {
   "codemirror_mode": {
    "name": "ipython",
    "version": 3
   },
   "file_extension": ".py",
   "mimetype": "text/x-python",
   "name": "python",
   "nbconvert_exporter": "python",
   "pygments_lexer": "ipython3",
   "version": "3.8.8"
  }
 },
 "nbformat": 4,
 "nbformat_minor": 5
}
